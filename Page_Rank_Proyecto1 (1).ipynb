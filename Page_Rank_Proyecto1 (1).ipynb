{
  "nbformat": 4,
  "nbformat_minor": 0,
  "metadata": {
    "colab": {
      "provenance": []
    },
    "kernelspec": {
      "name": "python3",
      "display_name": "Python 3"
    },
    "language_info": {
      "name": "python"
    }
  },
  "cells": [
    {
      "cell_type": "markdown",
      "source": [
        "Notación: Denotamos a la función indicadora como $$\\mathbb{1}_{[P(x)]}(x) = \\begin{cases} 1 & \\text{si }P(x)\\text{ es verdadero,} \\\\ 0 & \\text{e.o.c.}\\end{cases} $$\n",
        "\n",
        "La regla de correspondencia de la matriz $g\\in M_{|X|\\times |X|}(\\mathbb{R})$ es\n",
        "\n",
        "$$g_{i,j} = \\mathbb 1 _{[(i,j)\\in A]}(i,j).$$\n",
        "\n",
        "Vamos a pensar qué nos gustaría que haga la gráfica:\n",
        "\n",
        "Métodos:\n",
        "- `__str__`,\n",
        "- agregar arcos,\n",
        "- quitar arcos,\n",
        "- verificar conexidad,\n",
        "- verificar ciclicidad,\n",
        "- dados dos arcos, ¿comparten extremos?\n",
        "- agregar nodos,\n",
        "- retirar nodos,\n",
        "- cuántos nodos,\n",
        "- cuántos arcos.\n"
      ],
      "metadata": {
        "id": "gsC-1arblZju"
      }
    },
    {
      "cell_type": "code",
      "source": [
        "#Trabajo de Hector Vazquez Terreros\n",
        "\n",
        "#Importamos las librerias\n",
        "import numpy as np #Lo usamos para trabajar con matrices y arreglos multidimensionales de manera eficiente\n",
        "import pandas as pd #Se usa para leer y manejar datos tabulares Excel en nuestro caso :3\n",
        "\n",
        "#Definimos la clase grafica con los atributos necesarios para dar solucion a la practica propuesta\n",
        "class Grafica():\n",
        "    \"\"\"Esta si es una gráfica :)\"\"\"\n",
        "    def __init__(self, nodos, arcos):\n",
        "        \"\"\"Descripción del constructor\"\"\"\n",
        "#El constructor crea una matriz de adyacencia de tamaño len(nodos) x len(nodos)\n",
        "        self.matriz = np.zeros((len(nodos), len(nodos)))\n",
        "        for x in arcos:\n",
        "            self.matriz[x[0], x[1]] = 1\n",
        "\n",
        "#Este método devuelve la representación en cadena de la matriz de adyacencia cuando se imprime la instancia de la clase Grafica\n",
        "    def __str__(self):\n",
        "        return str(self.matriz)\n",
        "\n",
        "#Este método permite agregar un nuevo arco dirigido a la gráfica\n",
        "    def agregar_arco(self, tupla):\n",
        "        self.matriz[tupla[ 0], tupla[ 1]] = 1\n",
        "\n",
        "#Este método permite eliminar un arco de la gráfica\n",
        "    def quitar_arco(self, tupla):\n",
        "        self.matriz[tupla[ 0], tupla[ 1]]= 0\n",
        "\n",
        "#Este método devuelve el número total de nodos en la gráfica\n",
        "    def num_nodos(self):\n",
        "        return len(self.matriz)\n",
        "\n",
        "#Este método devuelve el número total de arcos en la gráfica\n",
        "    def num_arcos(self):\n",
        "        return int(self.matriz.sum())\n",
        "#Este método permite agregar un nuevo nodo a la gráfica\n",
        "    def agregar_nodo(self):\n",
        "        vertical =  np.zeros((len(self.matriz), 1))\n",
        "        horizontal = np.zeros((1, len(self.matriz) + 1))\n",
        "        self.matriz = np.vstack((np.hstack((self.matriz, vertical)),\n",
        "                                 horizontal))\n",
        "\n",
        "#Este método permite eliminar un nodo de la gráfica\n",
        "    def quitar_nodo(self, nodo):\n",
        "        self.matriz = np.delete(self.matriz, (nodo), axis=0)\n",
        "        self.matriz = np.delete(self.matriz, (nodo), axis=1)\n",
        "\n",
        "\n",
        "def construccion_pd(ruta_nombre_del_archivo):\n",
        "    \"\"\"\n",
        "    #Esta función tiene como propósito leer un archivo de Excel que contiene información sobre nodos y arcos de una gráfica y luego crear una instancia de la clase Grafica con esa información.\n",
        "    \"\"\"\n",
        "    df = pd.read_excel(ruta_nombre_del_archivo)\n",
        "    Nodos = list(range(len(df[\"Index\"])))\n",
        "    x = list(df[\"Cited by\"])\n",
        "    Arcos = []\n",
        "    for i in range(len(x)):\n",
        "        for j in x[i].split(','):\n",
        "            Arcos.append((int(j) - 1, i)) #En esta parte restamos uno para que el indice comience desde cero\n",
        "    return Grafica(Nodos, Arcos)\n"
      ],
      "metadata": {
        "id": "g4aqQTellW5k"
      },
      "execution_count": 132,
      "outputs": []
    },
    {
      "cell_type": "code",
      "source": [
        "# Importamos el archivo adjunto a la practica para analizarla\n",
        "df = pd.read_excel(\"/content/Web (1).xlsx\")\n",
        "print(df)"
      ],
      "metadata": {
        "colab": {
          "base_uri": "https://localhost:8080/"
        },
        "id": "99UurzkPnyNq",
        "outputId": "a4502c88-1523-4f48-8fbf-ddabffcb2b7a"
      },
      "execution_count": 26,
      "outputs": [
        {
          "output_type": "stream",
          "name": "stdout",
          "text": [
            "                Website  Index           Cited by\n",
            "0           nytimes.com      1           2, 7, 11\n",
            "1    washingtonpost.com      2         1, 4, 6, 9\n",
            "2               cnn.com      3        1, 5, 9, 11\n",
            "3           foxnews.com      4        2, 3, 8, 14\n",
            "4            forbes.com      5          3, 12, 15\n",
            "5         bloomberg.com      6       2, 8, 13, 15\n",
            "6               wsj.com      7           3, 9, 10\n",
            "7          huffpost.com      8        2, 4, 5, 12\n",
            "8   businessinsider.com      9    2, 3, 7, 13, 15\n",
            "9               npr.org     10            4, 7, 8\n",
            "10       techcrunch.com     11           1, 3, 15\n",
            "11         theverge.com     12           5, 8, 13\n",
            "12          reuters.com     13       1, 9, 12, 15\n",
            "13         politico.com     14            4, 5, 6\n",
            "14         mashable.com     15    5, 6, 9, 11, 13\n",
            "15            yandex.ru     16         17, 18, 20\n",
            "16             lenta.ru     17         16, 19, 21\n",
            "17            gazeta.ru     18         16, 20, 22\n",
            "18               ria.ru     19         17, 21, 24\n",
            "19               rbk.ru     20     16, 18, 22, 23\n",
            "20              tass.ru     21         17, 19, 24\n",
            "21                iz.ru     22         18, 20, 25\n",
            "22        kommersant.ru     23         20, 24, 25\n",
            "23         vedomosti.ru     24     19, 21, 23, 25\n",
            "24            regnum.ru     25         22, 23, 24\n",
            "25   federalreserve.gov     26  1, 2, 5, 7, 9, 26\n"
          ]
        }
      ]
    },
    {
      "cell_type": "code",
      "source": [
        "#Creamos una matriz con la informacion obtenida del archico excel adjunto en la practica\n",
        "matrix = construccion_pd(\"/content/Web (1).xlsx\").matriz\n",
        "print(matrix)"
      ],
      "metadata": {
        "colab": {
          "base_uri": "https://localhost:8080/"
        },
        "id": "TxAtQXjVryMK",
        "outputId": "7e59fc28-7cb4-4182-8435-4434935a14ed"
      },
      "execution_count": 31,
      "outputs": [
        {
          "output_type": "stream",
          "name": "stdout",
          "text": [
            "[[0. 1. 1. 0. 0. 0. 0. 0. 0. 0. 1. 0. 1. 0. 0. 0. 0. 0. 0. 0. 0. 0. 0. 0.\n",
            "  0. 1.]\n",
            " [1. 0. 0. 1. 0. 1. 0. 1. 1. 0. 0. 0. 0. 0. 0. 0. 0. 0. 0. 0. 0. 0. 0. 0.\n",
            "  0. 1.]\n",
            " [0. 0. 0. 1. 1. 0. 1. 0. 1. 0. 1. 0. 0. 0. 0. 0. 0. 0. 0. 0. 0. 0. 0. 0.\n",
            "  0. 0.]\n",
            " [0. 1. 0. 0. 0. 0. 0. 1. 0. 1. 0. 0. 0. 1. 0. 0. 0. 0. 0. 0. 0. 0. 0. 0.\n",
            "  0. 0.]\n",
            " [0. 0. 1. 0. 0. 0. 0. 1. 0. 0. 0. 1. 0. 1. 1. 0. 0. 0. 0. 0. 0. 0. 0. 0.\n",
            "  0. 1.]\n",
            " [0. 1. 0. 0. 0. 0. 0. 0. 0. 0. 0. 0. 0. 1. 1. 0. 0. 0. 0. 0. 0. 0. 0. 0.\n",
            "  0. 0.]\n",
            " [1. 0. 0. 0. 0. 0. 0. 0. 1. 1. 0. 0. 0. 0. 0. 0. 0. 0. 0. 0. 0. 0. 0. 0.\n",
            "  0. 1.]\n",
            " [0. 0. 0. 1. 0. 1. 0. 0. 0. 1. 0. 1. 0. 0. 0. 0. 0. 0. 0. 0. 0. 0. 0. 0.\n",
            "  0. 0.]\n",
            " [0. 1. 1. 0. 0. 0. 1. 0. 0. 0. 0. 0. 1. 0. 1. 0. 0. 0. 0. 0. 0. 0. 0. 0.\n",
            "  0. 1.]\n",
            " [0. 0. 0. 0. 0. 0. 1. 0. 0. 0. 0. 0. 0. 0. 0. 0. 0. 0. 0. 0. 0. 0. 0. 0.\n",
            "  0. 0.]\n",
            " [1. 0. 1. 0. 0. 0. 0. 0. 0. 0. 0. 0. 0. 0. 1. 0. 0. 0. 0. 0. 0. 0. 0. 0.\n",
            "  0. 0.]\n",
            " [0. 0. 0. 0. 1. 0. 0. 1. 0. 0. 0. 0. 1. 0. 0. 0. 0. 0. 0. 0. 0. 0. 0. 0.\n",
            "  0. 0.]\n",
            " [0. 0. 0. 0. 0. 1. 0. 0. 1. 0. 0. 1. 0. 0. 1. 0. 0. 0. 0. 0. 0. 0. 0. 0.\n",
            "  0. 0.]\n",
            " [0. 0. 0. 1. 0. 0. 0. 0. 0. 0. 0. 0. 0. 0. 0. 0. 0. 0. 0. 0. 0. 0. 0. 0.\n",
            "  0. 0.]\n",
            " [0. 0. 0. 0. 1. 1. 0. 0. 1. 0. 1. 0. 1. 0. 0. 0. 0. 0. 0. 0. 0. 0. 0. 0.\n",
            "  0. 0.]\n",
            " [0. 0. 0. 0. 0. 0. 0. 0. 0. 0. 0. 0. 0. 0. 0. 0. 1. 1. 0. 1. 0. 0. 0. 0.\n",
            "  0. 0.]\n",
            " [0. 0. 0. 0. 0. 0. 0. 0. 0. 0. 0. 0. 0. 0. 0. 1. 0. 0. 1. 0. 1. 0. 0. 0.\n",
            "  0. 0.]\n",
            " [0. 0. 0. 0. 0. 0. 0. 0. 0. 0. 0. 0. 0. 0. 0. 1. 0. 0. 0. 1. 0. 1. 0. 0.\n",
            "  0. 0.]\n",
            " [0. 0. 0. 0. 0. 0. 0. 0. 0. 0. 0. 0. 0. 0. 0. 0. 1. 0. 0. 0. 1. 0. 0. 1.\n",
            "  0. 0.]\n",
            " [0. 0. 0. 0. 0. 0. 0. 0. 0. 0. 0. 0. 0. 0. 0. 1. 0. 1. 0. 0. 0. 1. 1. 0.\n",
            "  0. 0.]\n",
            " [0. 0. 0. 0. 0. 0. 0. 0. 0. 0. 0. 0. 0. 0. 0. 0. 1. 0. 1. 0. 0. 0. 0. 1.\n",
            "  0. 0.]\n",
            " [0. 0. 0. 0. 0. 0. 0. 0. 0. 0. 0. 0. 0. 0. 0. 0. 0. 1. 0. 1. 0. 0. 0. 0.\n",
            "  1. 0.]\n",
            " [0. 0. 0. 0. 0. 0. 0. 0. 0. 0. 0. 0. 0. 0. 0. 0. 0. 0. 0. 1. 0. 0. 0. 1.\n",
            "  1. 0.]\n",
            " [0. 0. 0. 0. 0. 0. 0. 0. 0. 0. 0. 0. 0. 0. 0. 0. 0. 0. 1. 0. 1. 0. 1. 0.\n",
            "  1. 0.]\n",
            " [0. 0. 0. 0. 0. 0. 0. 0. 0. 0. 0. 0. 0. 0. 0. 0. 0. 0. 0. 0. 0. 1. 1. 1.\n",
            "  0. 0.]\n",
            " [0. 0. 0. 0. 0. 0. 0. 0. 0. 0. 0. 0. 0. 0. 0. 0. 0. 0. 0. 0. 0. 0. 0. 0.\n",
            "  0. 1.]]\n"
          ]
        }
      ]
    },
    {
      "cell_type": "code",
      "source": [
        "def cal_pagerank(matriz, d, iteraciones_max=100, limite=1e-6):\n",
        "    \"\"\"\n",
        "    Calcula el PageRank con la ecuación iterativa \\pi_{m+1} = \\pi_m (dP + (1-d)U)\n",
        "    \"\"\"\n",
        "    n = len(matriz) #la variable n guarda la longitud de la matriz\n",
        "\n",
        "    # Matriz de transición P normalizada y la matriz\n",
        "    foo = matriz / matriz.sum(axis=1)[:, None]  # Normalización de la matriz P\n",
        "    M = np.ones((n, n)) / n  # Matriz U, todos sus valores son 1/n\n",
        "\n",
        "    #Declaramos el vector de PageRank\n",
        "    pi = np.ones((1, n)) / n  # Vector inicial con 1/n\n",
        "    pi_1 = pi @ (d * foo + (1 - d) * M)\n",
        "\n",
        "    # Iteración hasta converger\n",
        "    while np.linalg.norm(pi - pi_1) > limite:\n",
        "        pi = pi_1\n",
        "        pi_1 = pi @ (d * foo + (1 - d) * M)\n",
        "\n",
        "    return pi_1 #evuelve el vector 'pi_1', que contiene el valor de PageRank final de cada nodo."
      ],
      "metadata": {
        "id": "hCRCFMHTtxxb"
      },
      "execution_count": 71,
      "outputs": []
    },
    {
      "cell_type": "code",
      "source": [
        "#Determinamos la norma de la matriz y la normalizamos\n",
        "for c in range(len(matrix)):  # Itera sobre cada fila de la matriz\n",
        "    matrix[i, :] = matrix[i, :] / matrix[i, :].sum()  # Normaliza la fila\n",
        "\n",
        "# Imprimir la matriz normalizada\n",
        "print(\"Matriz normalizada:\")\n",
        "print(matrix)\n",
        "\n",
        "# Calcular la norma de la matriz\n",
        "norma = np.linalg.norm(matrix)  # Norma de la matriz\n",
        "print(\"Norma de la matriz:\", norma)"
      ],
      "metadata": {
        "colab": {
          "base_uri": "https://localhost:8080/"
        },
        "id": "x5RPtxXGxMzo",
        "outputId": "83fd22dd-640b-470e-dc3a-45e4168d2502"
      },
      "execution_count": 70,
      "outputs": [
        {
          "output_type": "stream",
          "name": "stdout",
          "text": [
            "Matriz normalizada:\n",
            "[[0.         0.2        0.2        0.         0.         0.\n",
            "  0.         0.         0.         0.         0.2        0.\n",
            "  0.2        0.         0.         0.         0.         0.\n",
            "  0.         0.         0.         0.         0.         0.\n",
            "  0.         0.2       ]\n",
            " [0.16666667 0.         0.         0.16666667 0.         0.16666667\n",
            "  0.         0.16666667 0.16666667 0.         0.         0.\n",
            "  0.         0.         0.         0.         0.         0.\n",
            "  0.         0.         0.         0.         0.         0.\n",
            "  0.         0.16666667]\n",
            " [0.         0.         0.         0.2        0.2        0.\n",
            "  0.2        0.         0.2        0.         0.2        0.\n",
            "  0.         0.         0.         0.         0.         0.\n",
            "  0.         0.         0.         0.         0.         0.\n",
            "  0.         0.        ]\n",
            " [0.         0.25       0.         0.         0.         0.\n",
            "  0.         0.25       0.         0.25       0.         0.\n",
            "  0.         0.25       0.         0.         0.         0.\n",
            "  0.         0.         0.         0.         0.         0.\n",
            "  0.         0.        ]\n",
            " [0.         0.         0.16666667 0.         0.         0.\n",
            "  0.         0.16666667 0.         0.         0.         0.16666667\n",
            "  0.         0.16666667 0.16666667 0.         0.         0.\n",
            "  0.         0.         0.         0.         0.         0.\n",
            "  0.         0.16666667]\n",
            " [0.         0.33333333 0.         0.         0.         0.\n",
            "  0.         0.         0.         0.         0.         0.\n",
            "  0.         0.33333333 0.33333333 0.         0.         0.\n",
            "  0.         0.         0.         0.         0.         0.\n",
            "  0.         0.        ]\n",
            " [0.25       0.         0.         0.         0.         0.\n",
            "  0.         0.         0.25       0.25       0.         0.\n",
            "  0.         0.         0.         0.         0.         0.\n",
            "  0.         0.         0.         0.         0.         0.\n",
            "  0.         0.25      ]\n",
            " [0.         0.         0.         0.25       0.         0.25\n",
            "  0.         0.         0.         0.25       0.         0.25\n",
            "  0.         0.         0.         0.         0.         0.\n",
            "  0.         0.         0.         0.         0.         0.\n",
            "  0.         0.        ]\n",
            " [0.         0.16666667 0.16666667 0.         0.         0.\n",
            "  0.16666667 0.         0.         0.         0.         0.\n",
            "  0.16666667 0.         0.16666667 0.         0.         0.\n",
            "  0.         0.         0.         0.         0.         0.\n",
            "  0.         0.16666667]\n",
            " [0.         0.         0.         0.         0.         0.\n",
            "  1.         0.         0.         0.         0.         0.\n",
            "  0.         0.         0.         0.         0.         0.\n",
            "  0.         0.         0.         0.         0.         0.\n",
            "  0.         0.        ]\n",
            " [0.33333333 0.         0.33333333 0.         0.         0.\n",
            "  0.         0.         0.         0.         0.         0.\n",
            "  0.         0.         0.33333333 0.         0.         0.\n",
            "  0.         0.         0.         0.         0.         0.\n",
            "  0.         0.        ]\n",
            " [0.         0.         0.         0.         0.33333333 0.\n",
            "  0.         0.33333333 0.         0.         0.         0.\n",
            "  0.33333333 0.         0.         0.         0.         0.\n",
            "  0.         0.         0.         0.         0.         0.\n",
            "  0.         0.        ]\n",
            " [0.         0.         0.         0.         0.         0.25\n",
            "  0.         0.         0.25       0.         0.         0.25\n",
            "  0.         0.         0.25       0.         0.         0.\n",
            "  0.         0.         0.         0.         0.         0.\n",
            "  0.         0.        ]\n",
            " [0.         0.         0.         1.         0.         0.\n",
            "  0.         0.         0.         0.         0.         0.\n",
            "  0.         0.         0.         0.         0.         0.\n",
            "  0.         0.         0.         0.         0.         0.\n",
            "  0.         0.        ]\n",
            " [0.         0.         0.         0.         0.2        0.2\n",
            "  0.         0.         0.2        0.         0.2        0.\n",
            "  0.2        0.         0.         0.         0.         0.\n",
            "  0.         0.         0.         0.         0.         0.\n",
            "  0.         0.        ]\n",
            " [0.         0.         0.         0.         0.         0.\n",
            "  0.         0.         0.         0.         0.         0.\n",
            "  0.         0.         0.         0.         0.33333333 0.33333333\n",
            "  0.         0.33333333 0.         0.         0.         0.\n",
            "  0.         0.        ]\n",
            " [0.         0.         0.         0.         0.         0.\n",
            "  0.         0.         0.         0.         0.         0.\n",
            "  0.         0.         0.         0.33333333 0.         0.\n",
            "  0.33333333 0.         0.33333333 0.         0.         0.\n",
            "  0.         0.        ]\n",
            " [0.         0.         0.         0.         0.         0.\n",
            "  0.         0.         0.         0.         0.         0.\n",
            "  0.         0.         0.         0.33333333 0.         0.\n",
            "  0.         0.33333333 0.         0.33333333 0.         0.\n",
            "  0.         0.        ]\n",
            " [0.         0.         0.         0.         0.         0.\n",
            "  0.         0.         0.         0.         0.         0.\n",
            "  0.         0.         0.         0.         0.33333333 0.\n",
            "  0.         0.         0.33333333 0.         0.         0.33333333\n",
            "  0.         0.        ]\n",
            " [0.         0.         0.         0.         0.         0.\n",
            "  0.         0.         0.         0.         0.         0.\n",
            "  0.         0.         0.         0.25       0.         0.25\n",
            "  0.         0.         0.         0.25       0.25       0.\n",
            "  0.         0.        ]\n",
            " [0.         0.         0.         0.         0.         0.\n",
            "  0.         0.         0.         0.         0.         0.\n",
            "  0.         0.         0.         0.         0.33333333 0.\n",
            "  0.33333333 0.         0.         0.         0.         0.33333333\n",
            "  0.         0.        ]\n",
            " [0.         0.         0.         0.         0.         0.\n",
            "  0.         0.         0.         0.         0.         0.\n",
            "  0.         0.         0.         0.         0.         0.33333333\n",
            "  0.         0.33333333 0.         0.         0.         0.\n",
            "  0.33333333 0.        ]\n",
            " [0.         0.         0.         0.         0.         0.\n",
            "  0.         0.         0.         0.         0.         0.\n",
            "  0.         0.         0.         0.         0.         0.\n",
            "  0.         0.33333333 0.         0.         0.         0.33333333\n",
            "  0.33333333 0.        ]\n",
            " [0.         0.         0.         0.         0.         0.\n",
            "  0.         0.         0.         0.         0.         0.\n",
            "  0.         0.         0.         0.         0.         0.\n",
            "  0.25       0.         0.25       0.         0.25       0.\n",
            "  0.25       0.        ]\n",
            " [0.         0.         0.         0.         0.         0.\n",
            "  0.         0.         0.         0.         0.         0.\n",
            "  0.         0.         0.         0.         0.         0.\n",
            "  0.         0.         0.         0.33333333 0.33333333 0.33333333\n",
            "  0.         0.        ]\n",
            " [0.         0.         0.         0.         0.         0.\n",
            "  0.         0.         0.         0.         0.         0.\n",
            "  0.         0.         0.         0.         0.         0.\n",
            "  0.         0.         0.         0.         0.         0.\n",
            "  0.         1.        ]]\n",
            "Norma de la matriz: 3.0441200151548995\n"
          ]
        }
      ]
    },
    {
      "cell_type": "code",
      "source": [
        "#Aqui podemos ver que el que tiene mayor numero de citaciones o es mas recomendada es la ultima pagina, es decir, la que tiene indice 26, que si analizamos visualemennte, tiene 6 citaciones\n",
        "pi"
      ],
      "metadata": {
        "colab": {
          "base_uri": "https://localhost:8080/"
        },
        "id": "P9yo7X5SvNpS",
        "outputId": "edbbb785-0632-444d-f25a-d31642050725"
      },
      "execution_count": 72,
      "outputs": [
        {
          "output_type": "execute_result",
          "data": {
            "text/plain": [
              "array([[7.33320314e-07, 1.01764169e-06, 6.33367242e-07, 1.36085707e-06,\n",
              "        5.34701306e-07, 8.20661192e-07, 1.37005441e-06, 8.33927232e-07,\n",
              "        1.10169011e-06, 9.60685274e-07, 5.04500778e-07, 5.24041574e-07,\n",
              "        7.54179322e-07, 7.57679334e-07, 9.73391912e-07, 3.60576923e-02,\n",
              "        3.60576923e-02, 3.60576923e-02, 3.60576923e-02, 4.80769231e-02,\n",
              "        3.60576923e-02, 3.60576923e-02, 3.60576923e-02, 4.80769231e-02,\n",
              "        3.60576923e-02, 6.15371735e-01]])"
            ]
          },
          "metadata": {},
          "execution_count": 72
        }
      ]
    },
    {
      "cell_type": "markdown",
      "source": [
        "#Respuestas correspondientes a la practica PageRank\n",
        "¿Cuál es la página web más importante según el algoritmo si se inicia con el vector (1/n,...,1/n)?\n",
        "Respuesta: La pagina mas importante es la que tiene el indice 26, ya que ha sido citada por 6 paginas y despues de ser normalizada tiene el valor mas grande entre todas las demas"
      ],
      "metadata": {
        "id": "CgTIo9BYBI4-"
      }
    },
    {
      "cell_type": "code",
      "source": [
        "pagina_mas_importante = np.argmax(pi)\n",
        "print(\"La página web más importante según el algoritmo de PageRank es la página con índice\", pagina_mas_importante + 1,  \"considerando que el índice comienza desde 1.\")"
      ],
      "metadata": {
        "colab": {
          "base_uri": "https://localhost:8080/"
        },
        "id": "AtECPr5Q2DQS",
        "outputId": "84a0cf66-333c-451b-9ddf-88f1c2ffbd6f"
      },
      "execution_count": 88,
      "outputs": [
        {
          "output_type": "stream",
          "name": "stdout",
          "text": [
            "La página web más importante según el algoritmo de PageRank es la página con índice 26 considerando que el índice comienza desde 1.\n"
          ]
        }
      ]
    },
    {
      "cell_type": "markdown",
      "source": [
        "Defina ahora un vector π de la siguiente forma\n",
        "$$π_k = \\begin{cases} 1/s & \\text{sila página k tiene terminación .ru,} \\\\ 0 & \\text{e.o.c.}\\end{cases} $$\n",
        "\n",
        "\n",
        "donde s es el número de páginas con terminación .ru. ¿La página de la pregunta 1 sigue siendo la más\n",
        "importante?\n",
        "\n",
        "No, la respuesta se justifica a continuacion"
      ],
      "metadata": {
        "id": "CL70iGfxLBGa"
      }
    },
    {
      "cell_type": "code",
      "source": [
        "def pagerank_terminacion_ru(matriz, condicion, limit=1e-6):\n",
        "    \"\"\"\n",
        "    Calcula el PageRank con un vector inicial condicionado para las páginas con terminación .ru\n",
        "    y aplica iteraciones hasta la convergencia.\n",
        "    \"\"\"\n",
        "\n",
        "    n = len(matriz)  # Número de nodos en el grafo. Se asume que la matriz es cuadrada, por lo que 'n' es igual al número de filas (y columnas).\n",
        "\n",
        "    # Si no hay páginas que cumplan con la condición (ningún valor True en 'condicion'), devuelve un vector de ceros.\n",
        "    if not np.any(condicion):\n",
        "        print(\"Ninguna página cumple con la condición especificada.\")\n",
        "        return np.zeros((1, n))  # Retorna un vector de ceros, ya que no hay páginas relevantes para el cálculo de PageRank.\n",
        "\n",
        "    # Crear el vector de PageRank con pesos basados en la condición proporcionada.\n",
        "    pi = np.zeros(n)  # Inicializa el vector 'pi' de tamaño 'n' (número de nodos) con ceros.\n",
        "\n",
        "    # Asigna el valor 1/normalizado a las páginas que cumplen con la condición (aquellas con terminación '.ru').\n",
        "    # Normaliza solo las páginas que cumplen la condición, distribuyendo uniformemente el valor entre ellas.\n",
        "    pi[condicion] = 1 / np.sum(condicion)  # 'np.sum(condicion)' cuenta cuántas páginas cumplen la condición y normaliza el valor de 'pi' solo para ellas.\n",
        "\n",
        "    # Asegura que 'pi' sea un vector fila (un arreglo de una sola fila y n columnas), necesario para la multiplicación matricial.\n",
        "    pi = pi.reshape(1, -1)  # El método 'reshape(1, -1)' convierte el vector 'pi' de tamaño (n,) en un vector fila de tamaño (1, n).\n",
        "\n",
        "    # Se realiza el primer cálculo del producto matricial (multiplicación de 'pi' por la matriz de adyacencia 'matriz').\n",
        "    pi_n = pi @ matriz  # 'pi' se multiplica por la matriz de transición para obtener el siguiente vector 'pi_n'.\n",
        "\n",
        "    # Iteración hasta que la diferencia entre el vector 'pi' y 'pi_n' sea menor que el umbral 'limit'.\n",
        "    # Esto asegura que el algoritmo se detenga cuando los valores de PageRank converjan.\n",
        "    while np.linalg.norm(pi - pi_n) > limit:  # 'np.linalg.norm' calcula la norma de la diferencia entre los vectores, que indica cuánto ha cambiado el vector 'pi' entre iteraciones.\n",
        "        pi = pi_n  # Actualiza 'pi' con el nuevo valor calculado.\n",
        "        pi_n = pi @ matriz  # Realiza otra multiplicación matricial para obtener el siguiente vector de PageRank.\n",
        "\n",
        "    return pi_n  # Devuelve el vector de PageRank final después de la convergencia."
      ],
      "metadata": {
        "id": "m4leECCTZIZv"
      },
      "execution_count": 139,
      "outputs": []
    },
    {
      "cell_type": "code",
      "source": [
        "\n",
        "# Definimos la condición de páginas terminacion '.ru'\n",
        "condicion_ru = df['Website'].apply(lambda x: x.strip().endswith(\".ru\")).values"
      ],
      "metadata": {
        "id": "I6b8YbJLyqfw"
      },
      "execution_count": 116,
      "outputs": []
    },
    {
      "cell_type": "code",
      "source": [
        "\n",
        "# Definimos la condición de páginas terminacion '.ru'\n",
        "condicion_ru = df['Website'].apply(lambda x: x.strip().endswith(\".ru\")).values"
      ],
      "metadata": {
        "id": "416xDV_h-JaV"
      },
      "execution_count": 117,
      "outputs": []
    },
    {
      "cell_type": "code",
      "source": [
        "# Imprime las páginas que cumplen con la condición de terminar en  '.ru'\n",
        "print(\"Páginas con dominio .ru:\")\n",
        "páginas_con_ru = df['Website'][condicion_ru].tolist()\n",
        "print(páginas_con_ru)"
      ],
      "metadata": {
        "colab": {
          "base_uri": "https://localhost:8080/"
        },
        "id": "xv7SQcnX-WBV",
        "outputId": "a9e6a10f-5796-43d0-d069-79055cfca6ed"
      },
      "execution_count": 118,
      "outputs": [
        {
          "output_type": "stream",
          "name": "stdout",
          "text": [
            "Páginas con dominio .ru:\n",
            "['yandex.ru', 'lenta.ru', 'gazeta.ru', 'ria.ru', 'rbk.ru', 'tass.ru', 'iz.ru', 'kommersant.ru', 'vedomosti.ru', 'regnum.ru']\n"
          ]
        }
      ]
    },
    {
      "cell_type": "code",
      "source": [
        "# Calcular el vector de PageRank condicionado a las paginas que  terminan en ru\n",
        "page_rank_ru = pagerank_terminacion_ru(matrix, condicion_ru)\n",
        "\n",
        "print(\"Vector de PageRank de las paginas con terminacion ru:\") # Imprimir el vector de PageRank resultante\n",
        "print(page_rank_ru)"
      ],
      "metadata": {
        "colab": {
          "base_uri": "https://localhost:8080/"
        },
        "id": "8eaTo_Fa_FMk",
        "outputId": "1a3d0eb9-4841-4161-fddd-f24343efd9e9"
      },
      "execution_count": 133,
      "outputs": [
        {
          "output_type": "stream",
          "name": "stdout",
          "text": [
            "Vector de PageRank de las paginas con terminacion ru:\n",
            "[[0.         0.         0.         0.         0.         0.\n",
            "  0.         0.         0.         0.         0.         0.\n",
            "  0.         0.         0.         0.09375007 0.09375    0.09374982\n",
            "  0.09375018 0.12499973 0.09375018 0.09375001 0.09375008 0.12500005\n",
            "  0.09374989 0.        ]]\n"
          ]
        }
      ]
    },
    {
      "cell_type": "code",
      "source": [
        "# Obtenemos los índices de las páginas con terminacion '.ru'\n",
        "indices_ru = df.index[condicion_ru].tolist()\n",
        "# 'condicion_ru' es una condición booleana que indica cuáles filas corresponden a páginas con terminacion '.ru'.\n",
        "# tolist() convierte el índice filtrado en una lista de índices.\n",
        "\n",
        "# Extraemos los valores de PageRank solo para las páginas con terminacion .ru\n",
        "page_rank_values = page_rank_ru[0][indices_ru]\n",
        "# 'indices_ru' es una lista con los índices de las páginas con terminacion '.ru', por lo que al usar estos índices se extraen solo los valores correspondientes.\n",
        "\n",
        "# Se ordenan los valores de PageRank en orden descendente y obtener los índices correspondientes\n",
        "indices_ord = np.argsort(page_rank_values)[::-1][:2]\n",
        "# 'np.argsort(page_rank_values)' devuelve los índices que ordenarían el array 'page_rank_values' en orden ascendente.\n",
        "# '[::-1]' invierte el orden del array para que los valores más altos (es decir, las páginas más importantes) estén primero.\n",
        "# '[:2]' selecciona los primeros dos índices, es decir, los dos valores de PageRank más altos.\n",
        "\n",
        "''' Imprimir las dos páginas más importantes con terminación .ru ayudándonos de un ciclo for'''\n",
        "print(\"Las páginas más importantes con terminación .ru son: \")\n",
        "# indicalas páginas más importantes con terminacion '.ru' serán listadas a continuación.\n",
        "\n",
        "# Ciclo que recorre los índices de las páginas ordenadas\n",
        "for indice in indices_ord:\n",
        "    # El ciclo 'for' recorre los índices de las dos páginas con mayor PageRank, los cuales están en 'indices_ord'.\n",
        "\n",
        "    print(\"Página con índice \" + str(indices_ru[indice] + 1) + \" con PageRank de : \" + str(page_rank_values[indice]))\n",
        "\n",
        "    # Se le suma 1 a este índice para mostrarlo de manera convencional (ya que los índices en Python comienzan desde 0).\n"
      ],
      "metadata": {
        "colab": {
          "base_uri": "https://localhost:8080/"
        },
        "id": "3fTTFLZTBg7B",
        "outputId": "dd69553c-18d0-4d50-f6ef-25d5ee19bccb"
      },
      "execution_count": 140,
      "outputs": [
        {
          "output_type": "stream",
          "name": "stdout",
          "text": [
            "Las páginas más importantes con terminación .ru son: \n",
            "Página con índice 24 con PageRank de : 0.12500004964693445\n",
            "Página con índice 20 con PageRank de : 0.12499973445344623\n"
          ]
        }
      ]
    },
    {
      "cell_type": "markdown",
      "source": [
        "#Pregunta 3\n",
        " Considere ahora la ecuación iterativa πm+1 = πm(dP + (1−d)U ), donde la matriz U queda definida con\n",
        "entradas ui,j = 1/n, para toda i, j ∈ {1,...,n} y d ∈ [0,1]. Utilice los valores 0.5,0.85,1 para d y reporte los\n",
        "\n",
        "resultados. De los tres valores anteriores para d, ¿cuál considera que es el mejor (según los ordenamien-\n",
        "tos obtenidos) y por qué?"
      ],
      "metadata": {
        "id": "nOVgxXHJNiXl"
      }
    },
    {
      "cell_type": "code",
      "source": [
        "\n",
        "def pagerank_iterativo(matriz, d, limit=1e-6, max_iter=100):\n",
        "    \"\"\"\n",
        "    Calcula el vector de PageRank utilizando la ecuación iterativa.\n",
        "\n",
        "    π_{m+1} = π_m (dP + (1-d)U)\n",
        "    \"\"\"\n",
        "    n = len(matriz)  # Número de páginas (nodos)\n",
        "\n",
        "    # Crear la matriz U\n",
        "    U = np.ones((n, n)) / n  # Cada elemento de U es 1/n\n",
        "\n",
        "    # Inicialización del vector de PageRank (todos los valores iniciales son 1/n)\n",
        "    pi = np.ones(n) / n\n",
        "\n",
        "    # Matriz de transición P (normalizada)\n",
        "    P = matriz / matriz.sum(axis=1, keepdims=True)\n",
        "\n",
        "    # Realizar las iteraciones\n",
        "    for _ in range(max_iter):\n",
        "        pi_new = pi @ (d * P + (1 - d) * U)\n",
        "\n",
        "        # Comprobar si el cambio es menor que el limit\n",
        "        if np.linalg.norm(pi_new - pi) < limit:\n",
        "            break\n",
        "        pi = pi_new\n",
        "    return pi_new\n",
        "\n",
        "# Ejecutamos el PageRank para los diferentes valores de d\n",
        "d_values = [0.5, 0.85, 1.0]\n",
        "resultados = {}\n",
        "\n",
        "for d in d_values:\n",
        "    print(f\"Calculando PageRank para d = {d}\")\n",
        "    page_rank_resultado = pagerank_iterativo(matrix, d)\n",
        "    resultados[d] = page_rank_resultado\n",
        "\n",
        "    # Imprimir el vector de PageRank para el valor de d actual\n",
        "    print(f\"Resultado PageRank para d = {d}:\")\n",
        "    print(page_rank_resultado)\n",
        "    print(\"\\n\")\n",
        "\n",
        "# Comparar los resultados y decidir cuál es el mejor valor de d\n",
        "# Aquí se puede comparar si hay una diferencia significativa en el orden de los PageRanks para los diferentes valores de d"
      ],
      "metadata": {
        "colab": {
          "base_uri": "https://localhost:8080/"
        },
        "id": "BG8IRaVhNHes",
        "outputId": "4b186db9-9d76-4598-8d74-4220ffbe1ede"
      },
      "execution_count": 138,
      "outputs": [
        {
          "output_type": "stream",
          "name": "stdout",
          "text": [
            "Calculando PageRank para d = 0.5\n",
            "Resultado PageRank para d = 0.5:\n",
            "[0.03276547 0.03755848 0.03342873 0.04702049 0.03173841 0.03527266\n",
            " 0.04338466 0.03600766 0.03953766 0.03503239 0.02989038 0.03074746\n",
            " 0.03496689 0.03363199 0.04040183 0.0371988  0.03783815 0.03708623\n",
            " 0.03722273 0.04384511 0.03722273 0.03705013 0.0363509  0.04385451\n",
            " 0.03694609 0.07399947]\n",
            "\n",
            "\n",
            "Calculando PageRank para d = 0.85\n",
            "Resultado PageRank para d = 0.85:\n",
            "[0.02375513 0.03083672 0.02284082 0.04115192 0.02072413 0.0268213\n",
            " 0.03861167 0.02747861 0.03307002 0.02855825 0.0191024  0.01997684\n",
            " 0.02556449 0.02504934 0.03183429 0.03643144 0.03676753 0.03632114\n",
            " 0.03648717 0.04684119 0.03648717 0.03626792 0.03593937 0.04688206\n",
            " 0.0361904  0.2000087 ]\n",
            "\n",
            "\n",
            "Calculando PageRank para d = 1.0\n",
            "Resultado PageRank para d = 1.0:\n",
            "[1.84989458e-05 2.56713174e-05 1.59775013e-05 3.43293657e-05\n",
            " 1.34885265e-05 2.07022315e-05 3.45613804e-05 2.10368844e-05\n",
            " 2.77915464e-05 2.42345186e-05 1.27266794e-05 1.32196211e-05\n",
            " 1.90251410e-05 1.91134333e-05 2.45550599e-05 3.60576923e-02\n",
            " 3.60576923e-02 3.60576923e-02 3.60576923e-02 4.80769231e-02\n",
            " 3.60576923e-02 3.60576923e-02 3.60576923e-02 4.80769231e-02\n",
            " 3.60576923e-02 6.15059683e-01]\n",
            "\n",
            "\n"
          ]
        }
      ]
    },
    {
      "cell_type": "markdown",
      "source": [
        "En la práctica d = 0.85\n",
        "d=0.85 es generalmente considerado el valor más adecuado para el algoritmo de PageRank, y es probable que este sea el mejor valor según los ordenamientos obtenidos, por varias razones:\n",
        "\n",
        "- El valor de d=0.85 es conocido por ser un buen equilibrio entre depender de la estructura de los enlaces y permitir algo de aleatoriedad. Esto hace que el algoritmo sea robusto ante webs grandes y complejas.\n",
        "\n",
        "- logra un buen balance entre la importancia de los enlaces y la aleatoriedad.\n",
        "- con d=0.85, el algoritmo da más peso a la estructura de enlaces"
      ],
      "metadata": {
        "id": "euRQpyi_PXpP"
      }
    }
  ]
}